{
 "cells": [
  {
   "cell_type": "code",
   "execution_count": 14,
   "metadata": {},
   "outputs": [],
   "source": [
    "import numpy as np\n",
    "import cv2\n",
    "import os\n",
    "import matplotlib.pyplot as plt\n",
    "from skimage import io"
   ]
  },
  {
   "cell_type": "code",
   "execution_count": 15,
   "metadata": {},
   "outputs": [],
   "source": [
    "DIR = 'C:/Users/Kapil Chauhan/Desktop/Practice/Tensorflow Practise/Animal Image Classifier/PetImages'\n",
    "Cate = ['Cat','Dog']"
   ]
  },
  {
   "cell_type": "code",
   "execution_count": 16,
   "metadata": {},
   "outputs": [],
   "source": [
    "def get_training_dt(DIR, Cate):\n",
    "    training_dt = []\n",
    "    for c in Cate:\n",
    "        path = os.path.join(DIR, c)\n",
    "        class_num = Cate.index(c)\n",
    "        for img in os.listdir(path):\n",
    "            try:\n",
    "                img_array = cv2.imread(os.path.join(path,img), cv2.IMREAD_GRAYSCALE)\n",
    "                img_array = cv2.resize(img_array,(50,50))\n",
    "                training_dt.append([img_array, class_num])\n",
    "            except Exception as e:\n",
    "                pass\n",
    "            \n",
    "    return training_dt"
   ]
  },
  {
   "cell_type": "code",
   "execution_count": 17,
   "metadata": {
    "scrolled": false
   },
   "outputs": [],
   "source": [
    "a = get_training_dt(DIR, Cate)"
   ]
  },
  {
   "cell_type": "code",
   "execution_count": 18,
   "metadata": {},
   "outputs": [],
   "source": [
    "import random\n",
    "\n",
    "random.shuffle(a)"
   ]
  },
  {
   "cell_type": "code",
   "execution_count": 19,
   "metadata": {},
   "outputs": [],
   "source": [
    "x = []\n",
    "y = []"
   ]
  },
  {
   "cell_type": "code",
   "execution_count": 20,
   "metadata": {},
   "outputs": [],
   "source": [
    "for i in a:\n",
    "    x.append(i[0])\n",
    "    y.append(i[1])"
   ]
  },
  {
   "cell_type": "code",
   "execution_count": 21,
   "metadata": {},
   "outputs": [],
   "source": [
    "del a"
   ]
  },
  {
   "cell_type": "code",
   "execution_count": 22,
   "metadata": {},
   "outputs": [],
   "source": [
    "x = np.array(x).reshape(-1, 50, 50, 1)"
   ]
  },
  {
   "cell_type": "code",
   "execution_count": 23,
   "metadata": {},
   "outputs": [],
   "source": [
    "x_train = x\n",
    "y_train = y"
   ]
  },
  {
   "cell_type": "code",
   "execution_count": 24,
   "metadata": {},
   "outputs": [],
   "source": [
    "del x, y"
   ]
  },
  {
   "cell_type": "code",
   "execution_count": 25,
   "metadata": {},
   "outputs": [],
   "source": [
    "import pickle"
   ]
  },
  {
   "cell_type": "code",
   "execution_count": 26,
   "metadata": {},
   "outputs": [],
   "source": [
    "pkl = open('x_train', 'wb')\n",
    "pickle.dump(x_train, pkl)\n",
    "pkl.close()"
   ]
  },
  {
   "cell_type": "code",
   "execution_count": 27,
   "metadata": {},
   "outputs": [],
   "source": [
    "pkl = open('y_train', 'wb')\n",
    "pickle.dump(y_train, pkl)\n",
    "pkl.close()"
   ]
  },
  {
   "cell_type": "code",
   "execution_count": 28,
   "metadata": {},
   "outputs": [],
   "source": [
    "del x_train, y_train"
   ]
  },
  {
   "cell_type": "code",
   "execution_count": 29,
   "metadata": {},
   "outputs": [
    {
     "name": "stdout",
     "output_type": "stream",
     "text": [
      "Activation\t Cate\t Conv2D\t Conv_layers\t DIR\t Dense\t Dropout\t Flatten\t MaxPooling2D\t \n",
      "Sequential\t TensorBoard\t cv2\t dense_layers\t dropout_rates\t f\t get_training_dt\t i\t io\t \n",
      "layer_sizes\t np\t os\t pickle\t pkl\t plt\t random\t tf\t time\t \n",
      "\n"
     ]
    }
   ],
   "source": [
    "%who"
   ]
  },
  {
   "cell_type": "code",
   "execution_count": 30,
   "metadata": {},
   "outputs": [],
   "source": [
    "import tensorflow as tf\n",
    "from tensorflow.keras.models import Sequential\n",
    "from tensorflow.keras.layers import Dense, Dropout, Activation, Flatten, Conv2D, MaxPooling2D\n",
    "from tensorflow.keras.callbacks import TensorBoard\n",
    "import time"
   ]
  },
  {
   "cell_type": "code",
   "execution_count": 31,
   "metadata": {},
   "outputs": [],
   "source": [
    "dense_layers = [0]\n",
    "Conv_layers = [3]\n",
    "layer_sizes = [64]\n",
    "dropout_rates = [0.4, 0.5]"
   ]
  },
  {
   "cell_type": "code",
   "execution_count": 32,
   "metadata": {},
   "outputs": [],
   "source": [
    "with open('x_train', 'rb+') as f:\n",
    "    x_train = pickle.load(f)\n",
    "\n",
    "with open('y_train', 'rb+') as f:\n",
    "    y_train = pickle.load(f)\n",
    "\n",
    "y_train = np.array(y_train)"
   ]
  },
  {
   "cell_type": "code",
   "execution_count": 33,
   "metadata": {},
   "outputs": [
    {
     "name": "stdout",
     "output_type": "stream",
     "text": [
      "/device:GPU:0\n"
     ]
    }
   ],
   "source": [
    "print(tf.test.gpu_device_name())"
   ]
  },
  {
   "cell_type": "code",
   "execution_count": 36,
   "metadata": {},
   "outputs": [
    {
     "name": "stderr",
     "output_type": "stream",
     "text": [
      "UsageError: Line magic function `%tensorboard` not found.\n"
     ]
    }
   ],
   "source": [
    "%tensorboard --logdir=log\\ --host=127.0.0.1"
   ]
  },
  {
   "cell_type": "code",
   "execution_count": 34,
   "metadata": {},
   "outputs": [
    {
     "name": "stderr",
     "output_type": "stream",
     "text": [
      "WARNING: Logging before flag parsing goes to stderr.\n",
      "W0918 17:02:41.874137  3808 deprecation.py:506] From C:\\ProgramData\\Anaconda3\\lib\\site-packages\\tensorflow\\python\\ops\\init_ops.py:1251: calling VarianceScaling.__init__ (from tensorflow.python.ops.init_ops) with dtype is deprecated and will be removed in a future version.\n",
      "Instructions for updating:\n",
      "Call initializer instance with the dtype argument instead of passing it to the constructor\n",
      "W0918 17:02:41.956945  3808 deprecation.py:323] From C:\\ProgramData\\Anaconda3\\lib\\site-packages\\tensorflow\\python\\ops\\nn_impl.py:180: add_dispatch_support.<locals>.wrapper (from tensorflow.python.ops.array_ops) is deprecated and will be removed in a future version.\n",
      "Instructions for updating:\n",
      "Use tf.where in 2.0, which has the same broadcast rule as np.where\n"
     ]
    },
    {
     "name": "stdout",
     "output_type": "stream",
     "text": [
      "Train on 22451 samples, validate on 2495 samples\n",
      "Epoch 1/10\n",
      "22451/22451 [==============================] - 6s 272us/sample - loss: 0.6686 - acc: 0.5849 - val_loss: 0.6096 - val_acc: 0.6774\n",
      "Epoch 2/10\n",
      "22451/22451 [==============================] - 5s 217us/sample - loss: 0.5892 - acc: 0.6930 - val_loss: 0.5283 - val_acc: 0.7547\n",
      "Epoch 3/10\n",
      "22451/22451 [==============================] - 5s 221us/sample - loss: 0.5389 - acc: 0.7300 - val_loss: 0.5154 - val_acc: 0.7527\n",
      "Epoch 4/10\n",
      "22451/22451 [==============================] - 5s 226us/sample - loss: 0.5048 - acc: 0.7562 - val_loss: 0.4846 - val_acc: 0.7727\n",
      "Epoch 5/10\n",
      "22451/22451 [==============================] - 5s 234us/sample - loss: 0.4797 - acc: 0.7694 - val_loss: 0.4751 - val_acc: 0.7776\n",
      "Epoch 6/10\n",
      "22451/22451 [==============================] - 5s 228us/sample - loss: 0.4612 - acc: 0.7845 - val_loss: 0.4698 - val_acc: 0.7816\n",
      "Epoch 7/10\n",
      "22451/22451 [==============================] - 5s 234us/sample - loss: 0.4400 - acc: 0.7956 - val_loss: 0.4409 - val_acc: 0.8008\n",
      "Epoch 8/10\n",
      "22451/22451 [==============================] - 5s 240us/sample - loss: 0.4192 - acc: 0.8103 - val_loss: 0.4405 - val_acc: 0.8044\n",
      "Epoch 9/10\n",
      "22451/22451 [==============================] - 5s 231us/sample - loss: 0.4011 - acc: 0.8183 - val_loss: 0.4480 - val_acc: 0.7980\n",
      "Epoch 10/10\n",
      "22451/22451 [==============================] - 5s 238us/sample - loss: 0.3815 - acc: 0.8251 - val_loss: 0.4216 - val_acc: 0.8104\n",
      "Train on 22451 samples, validate on 2495 samples\n",
      "Epoch 1/10\n",
      "22451/22451 [==============================] - 5s 244us/sample - loss: 0.6601 - acc: 0.5966 - val_loss: 0.6151 - val_acc: 0.6814\n",
      "Epoch 2/10\n",
      "22451/22451 [==============================] - 5s 231us/sample - loss: 0.6059 - acc: 0.6796 - val_loss: 0.5512 - val_acc: 0.7327\n",
      "Epoch 3/10\n",
      "22451/22451 [==============================] - 5s 244us/sample - loss: 0.5568 - acc: 0.7197 - val_loss: 0.5182 - val_acc: 0.7483\n",
      "Epoch 4/10\n",
      "22451/22451 [==============================] - 5s 242us/sample - loss: 0.5202 - acc: 0.7442 - val_loss: 0.4970 - val_acc: 0.7703\n",
      "Epoch 5/10\n",
      "22451/22451 [==============================] - 6s 259us/sample - loss: 0.4922 - acc: 0.7625 - val_loss: 0.4755 - val_acc: 0.7816\n",
      "Epoch 6/10\n",
      "22451/22451 [==============================] - 6s 256us/sample - loss: 0.4682 - acc: 0.7802 - val_loss: 0.4798 - val_acc: 0.7816\n",
      "Epoch 7/10\n",
      "22451/22451 [==============================] - 5s 231us/sample - loss: 0.4497 - acc: 0.7883 - val_loss: 0.4513 - val_acc: 0.7980\n",
      "Epoch 8/10\n",
      "22451/22451 [==============================] - 5s 229us/sample - loss: 0.4339 - acc: 0.8016 - val_loss: 0.4475 - val_acc: 0.7944\n",
      "Epoch 9/10\n",
      "22451/22451 [==============================] - 5s 231us/sample - loss: 0.4190 - acc: 0.8083 - val_loss: 0.4403 - val_acc: 0.7968\n",
      "Epoch 10/10\n",
      "22451/22451 [==============================] - 5s 227us/sample - loss: 0.4093 - acc: 0.8134 - val_loss: 0.4329 - val_acc: 0.8068\n"
     ]
    }
   ],
   "source": [
    "x_train = tf.keras.utils.normalize(x_train, axis=1)\n",
    "\n",
    "for layer_size in layer_sizes:\n",
    "\tfor Conv_layer in Conv_layers:\n",
    "\t\tfor dropout_rate in dropout_rates:\n",
    "\t\t\tfor dense_layer in dense_layers:\n",
    "                \n",
    "\t\t\t\tnm = \"Number of Conv_layers-{}, Dense_layers-{}, dropout_rate-{}, layer_size-{},\".format(Conv_layer, dense_layer, dropout_rate, layer_size,int(time.time()))\n",
    "\t\t\t\ttensorboard = TensorBoard(log_dir='logs\\\\{}'.format(nm))\n",
    "                \n",
    "\t\t\t\tmodel = Sequential()\n",
    "\t\t\t\tmodel.add(Conv2D(layer_size, (3,3), input_shape = x_train.shape[1:]))\n",
    "\t\t\t\tmodel.add(Activation('relu'))\n",
    "\t\t\t\tmodel.add(MaxPooling2D(pool_size = (2,2)))\n",
    "\n",
    "\t\t\t\tfor i in range(Conv_layer-1):\n",
    "\t\t\t\t\tmodel.add(Conv2D(layer_size, (3,3)))\n",
    "\t\t\t\t\tmodel.add(Activation('relu'))\n",
    "\t\t\t\t\tmodel.add(MaxPooling2D(pool_size = (2,2)))\n",
    "\n",
    "\t\t\t\tmodel.add(Flatten())\t\n",
    "\t\t\t\tfor i in range(dense_layer):\t\n",
    "\t\t\t\t\tmodel.add(Dense(layer_size))\n",
    "\t\t\t\t\tmodel.add(Activation('relu'))\n",
    "\t\t\t\t\tmodel.add(Dropout(dropout_rate))\n",
    "\n",
    "\t\t\t\tmodel.add(Dense(1))\n",
    "\t\t\t\tmodel.add(Activation('sigmoid'))\n",
    "\n",
    "\t\t\t\tmodel.compile(optimizer = 'adam', loss = 'binary_crossentropy', metrics = ['accuracy'])\n",
    "\t\t\t\tmodel.fit(x_train, y_train, epochs = 10, batch_size = 32, validation_split = 0.1, callbacks = [tensorboard])\n",
    "\n",
    "model.save('Dog_V_Cat_Classifier_Model.model')"
   ]
  },
  {
   "cell_type": "code",
   "execution_count": 1,
   "metadata": {},
   "outputs": [],
   "source": [
    "import tensorflow as tf"
   ]
  },
  {
   "cell_type": "code",
   "execution_count": null,
   "metadata": {},
   "outputs": [],
   "source": [
    "model = tf.keras."
   ]
  },
  {
   "cell_type": "code",
   "execution_count": null,
   "metadata": {},
   "outputs": [],
   "source": [
    "model = model.load('Dog_V_Cat_Classifier_Model.model')"
   ]
  }
 ],
 "metadata": {
  "kernelspec": {
   "display_name": "gputest",
   "language": "python",
   "name": "gputest"
  },
  "language_info": {
   "codemirror_mode": {
    "name": "ipython",
    "version": 3
   },
   "file_extension": ".py",
   "mimetype": "text/x-python",
   "name": "python",
   "nbconvert_exporter": "python",
   "pygments_lexer": "ipython3",
   "version": "3.7.3"
  }
 },
 "nbformat": 4,
 "nbformat_minor": 2
}
